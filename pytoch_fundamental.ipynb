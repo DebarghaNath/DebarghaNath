{
  "nbformat": 4,
  "nbformat_minor": 0,
  "metadata": {
    "colab": {
      "provenance": [],
      "authorship_tag": "ABX9TyN66P1PFlGPZpFBgZr3FUCF",
      "include_colab_link": true
    },
    "kernelspec": {
      "name": "python3",
      "display_name": "Python 3"
    },
    "language_info": {
      "name": "python"
    }
  },
  "cells": [
    {
      "cell_type": "markdown",
      "metadata": {
        "id": "view-in-github",
        "colab_type": "text"
      },
      "source": [
        "<a href=\"https://colab.research.google.com/github/DebarghaNath/DebarghaNath/blob/main/pytoch_fundamental.ipynb\" target=\"_parent\"><img src=\"https://colab.research.google.com/assets/colab-badge.svg\" alt=\"Open In Colab\"/></a>"
      ]
    },
    {
      "cell_type": "code",
      "source": [
        "!nvidia-smi #GPU Allocated online"
      ],
      "metadata": {
        "colab": {
          "base_uri": "https://localhost:8080/"
        },
        "id": "yReii58iFOs-",
        "outputId": "5f02a87e-2035-48a6-daf8-0b98cbca1f01"
      },
      "execution_count": 1,
      "outputs": [
        {
          "output_type": "stream",
          "name": "stdout",
          "text": [
            "/bin/bash: line 1: nvidia-smi: command not found\n"
          ]
        }
      ]
    },
    {
      "cell_type": "code",
      "source": [
        "import torch\n",
        "import pandas as pd\n",
        "import numpy as np\n",
        "import matplotlib.pyplot as plt\n",
        "print(torch.__version__)\n",
        "#CUDA compute unified device architecture to run codes in nvidia GPU"
      ],
      "metadata": {
        "colab": {
          "base_uri": "https://localhost:8080/"
        },
        "id": "xea9U8S_F2lz",
        "outputId": "eec45cc8-d9c0-4c24-88a9-9fc9fd7519cd"
      },
      "execution_count": 2,
      "outputs": [
        {
          "output_type": "stream",
          "name": "stdout",
          "text": [
            "2.5.1+cu124\n"
          ]
        }
      ]
    },
    {
      "cell_type": "markdown",
      "source": [
        "Tensor Introduction"
      ],
      "metadata": {
        "id": "mgzJpEsAHUHT"
      }
    },
    {
      "cell_type": "code",
      "source": [
        "#scalar:\n",
        "scalar = torch.tensor(7)\n",
        "scalar.ndim #dimension of tensor scalar is 0D\n",
        "scalar.item() #retrieve scalar as Python int"
      ],
      "metadata": {
        "colab": {
          "base_uri": "https://localhost:8080/"
        },
        "id": "ffy5XFelHX_8",
        "outputId": "9c06706d-ad99-4e2b-ad60-2fba1aca39b0"
      },
      "execution_count": 3,
      "outputs": [
        {
          "output_type": "execute_result",
          "data": {
            "text/plain": [
              "7"
            ]
          },
          "metadata": {},
          "execution_count": 3
        }
      ]
    },
    {
      "cell_type": "code",
      "source": [
        "#vector:\n",
        "vector = torch.tensor([7,7])\n",
        "vector.ndim # 1D for vector & parameter for vector\n",
        "vector.shape # number of vectors or tensors"
      ],
      "metadata": {
        "colab": {
          "base_uri": "https://localhost:8080/"
        },
        "id": "rkazQ0A1JPlt",
        "outputId": "b043c9da-6d56-4103-8f08-caeaddf38665"
      },
      "execution_count": 4,
      "outputs": [
        {
          "output_type": "execute_result",
          "data": {
            "text/plain": [
              "torch.Size([2])"
            ]
          },
          "metadata": {},
          "execution_count": 4
        }
      ]
    },
    {
      "cell_type": "code",
      "source": [
        "#Matrix\n",
        "matrix = torch.tensor([[7,8],[5,6],[3,4]])\n",
        "print(matrix.ndim)\n",
        "matrix.shape"
      ],
      "metadata": {
        "colab": {
          "base_uri": "https://localhost:8080/"
        },
        "id": "XsY6L9McJ6qo",
        "outputId": "78b5cfdc-2b06-4ff9-af50-2ce01b67a82e"
      },
      "execution_count": 5,
      "outputs": [
        {
          "output_type": "stream",
          "name": "stdout",
          "text": [
            "2\n"
          ]
        },
        {
          "output_type": "execute_result",
          "data": {
            "text/plain": [
              "torch.Size([3, 2])"
            ]
          },
          "metadata": {},
          "execution_count": 5
        }
      ]
    },
    {
      "cell_type": "code",
      "source": [
        "#TENSOR\n",
        "tensor = torch.tensor([[1,2,3],[4,5,6],[7,8,9]])\n",
        "tensor.ndim\n",
        "tensor.shape"
      ],
      "metadata": {
        "colab": {
          "base_uri": "https://localhost:8080/"
        },
        "id": "SS_o1vnwKbed",
        "outputId": "a7d99b14-4075-4bae-951f-fc5c0e074ee6"
      },
      "execution_count": 6,
      "outputs": [
        {
          "output_type": "execute_result",
          "data": {
            "text/plain": [
              "torch.Size([3, 3])"
            ]
          },
          "metadata": {},
          "execution_count": 6
        }
      ]
    },
    {
      "cell_type": "markdown",
      "source": [
        "Creating random tensors. Deep learning we begin with random tensors and let back propagation update the random numbers and get the values for you"
      ],
      "metadata": {
        "id": "ema9Pki4Ltbo"
      }
    },
    {
      "cell_type": "code",
      "source": [
        "random_tensor = torch.rand(3,4)\n",
        "random_tensor"
      ],
      "metadata": {
        "colab": {
          "base_uri": "https://localhost:8080/"
        },
        "id": "COUCmXbEL4a-",
        "outputId": "20155394-9265-4f16-c6b8-4c6b04ecda6b"
      },
      "execution_count": 7,
      "outputs": [
        {
          "output_type": "execute_result",
          "data": {
            "text/plain": [
              "tensor([[0.7961, 0.1223, 0.1667, 0.2322],\n",
              "        [0.3973, 0.8172, 0.9078, 0.4049],\n",
              "        [0.2936, 0.6216, 0.2410, 0.1223]])"
            ]
          },
          "metadata": {},
          "execution_count": 7
        }
      ]
    },
    {
      "cell_type": "code",
      "source": [
        "#tensor for image\n",
        "tensor = torch.rand(size = (244,244,3)) #height, width ,colorchannel\n",
        "tensor.ndim"
      ],
      "metadata": {
        "colab": {
          "base_uri": "https://localhost:8080/"
        },
        "id": "B-mcGk65NT-s",
        "outputId": "2501faee-2d5b-484f-926e-9cfc97df8752"
      },
      "execution_count": 8,
      "outputs": [
        {
          "output_type": "execute_result",
          "data": {
            "text/plain": [
              "3"
            ]
          },
          "metadata": {},
          "execution_count": 8
        }
      ]
    },
    {
      "cell_type": "markdown",
      "source": [
        "Zeros and Ones"
      ],
      "metadata": {
        "id": "PvNed6MoONXi"
      }
    },
    {
      "cell_type": "code",
      "source": [
        "zeros = torch.zeros(size = (3,4))\n",
        "ones = torch.ones(size = (3,4))\n",
        "ones,ones.dtype #ones and zeros are always in float32 datatype"
      ],
      "metadata": {
        "colab": {
          "base_uri": "https://localhost:8080/"
        },
        "id": "WoM1xKZSOO-r",
        "outputId": "d719969c-29c9-4618-a185-d228d22ca35d"
      },
      "execution_count": 9,
      "outputs": [
        {
          "output_type": "execute_result",
          "data": {
            "text/plain": [
              "(tensor([[1., 1., 1., 1.],\n",
              "         [1., 1., 1., 1.],\n",
              "         [1., 1., 1., 1.]]),\n",
              " torch.float32)"
            ]
          },
          "metadata": {},
          "execution_count": 9
        }
      ]
    },
    {
      "cell_type": "code",
      "source": [
        "#Tensor DataType\n",
        "tensor = torch.tensor([2,3,4],dtype= None,device = None,requires_grad = False)#dtype is torch.float64, torch.float32 is default\n",
        "tensor,tensor.dtype # wheather or not track gradient => requires_gard\n",
        "\n",
        "#TypeConversion\n",
        "tensor_16 = tensor.type(torch.half)\n",
        "tensor_16 * tensor"
      ],
      "metadata": {
        "colab": {
          "base_uri": "https://localhost:8080/"
        },
        "id": "RF10gjjiWl4S",
        "outputId": "5382569f-53e3-4315-c498-0739552d253e"
      },
      "execution_count": 10,
      "outputs": [
        {
          "output_type": "execute_result",
          "data": {
            "text/plain": [
              "tensor([ 4.,  9., 16.], dtype=torch.float16)"
            ]
          },
          "metadata": {},
          "execution_count": 10
        }
      ]
    },
    {
      "cell_type": "code",
      "source": [
        "print(\"DataType of Tensor:\" , tensor_16.dtype)\n",
        "print(\"Shape of Tensor: \",tensor_16.shape,\"and\", tensor_16.size())\n",
        "print(\"Device of Tensor: \",tensor_16.device)"
      ],
      "metadata": {
        "colab": {
          "base_uri": "https://localhost:8080/"
        },
        "id": "U02N9w6SD3Xm",
        "outputId": "832f4f22-fd4e-49b6-ef4e-f2255df5ecd7"
      },
      "execution_count": 11,
      "outputs": [
        {
          "output_type": "stream",
          "name": "stdout",
          "text": [
            "DataType of Tensor: torch.float16\n",
            "Shape of Tensor:  torch.Size([3]) and torch.Size([3])\n",
            "Device of Tensor:  cpu\n"
          ]
        }
      ]
    },
    {
      "cell_type": "markdown",
      "source": [
        "Tensor arithmatic"
      ],
      "metadata": {
        "id": "I6YxZi2BFcQr"
      }
    },
    {
      "cell_type": "code",
      "source": [
        "Tensor = torch.tensor([1,2,3])\n",
        "print(\"addition: \",Tensor+10)\n",
        "print(\"Multiplication: \",Tensor*10)\n",
        "print(\"Substraction: \",Tensor-10)\n",
        "#built in function:\n",
        "torch.mul(tensor,10)\n",
        "torch.add(tensor,1)"
      ],
      "metadata": {
        "colab": {
          "base_uri": "https://localhost:8080/"
        },
        "id": "MCixr70pFaZR",
        "outputId": "2a5ba188-9b16-417c-c900-f40721503a2a"
      },
      "execution_count": 12,
      "outputs": [
        {
          "output_type": "stream",
          "name": "stdout",
          "text": [
            "addition:  tensor([11, 12, 13])\n",
            "Multiplication:  tensor([10, 20, 30])\n",
            "Substraction:  tensor([-9, -8, -7])\n"
          ]
        },
        {
          "output_type": "execute_result",
          "data": {
            "text/plain": [
              "tensor([3, 4, 5])"
            ]
          },
          "metadata": {},
          "execution_count": 12
        }
      ]
    },
    {
      "cell_type": "code",
      "source": [
        "#Tensor Multiplication\n",
        "t2 = torch.tensor([[1,2,3]])\n",
        "t1 = torch.tensor([[1,2,3]])\n",
        "print(t2.shape)\n",
        "print(t1.shape)\n",
        "t3 = torch.matmul(t2,t1.T)\n",
        "print(t3.shape)"
      ],
      "metadata": {
        "colab": {
          "base_uri": "https://localhost:8080/"
        },
        "id": "XZ8aRJ0gGMGt",
        "outputId": "faf5f413-57d4-4b20-9bf6-d9fb339ac3ae"
      },
      "execution_count": 13,
      "outputs": [
        {
          "output_type": "stream",
          "name": "stdout",
          "text": [
            "torch.Size([1, 3])\n",
            "torch.Size([1, 3])\n",
            "torch.Size([1, 1])\n"
          ]
        }
      ]
    },
    {
      "cell_type": "code",
      "source": [
        "%%time\n",
        "value = 0\n",
        "for i in range(len(tensor)):\n",
        "    value+=tensor[i]*tensor[i]\n",
        "value"
      ],
      "metadata": {
        "colab": {
          "base_uri": "https://localhost:8080/"
        },
        "id": "O8hkTZLOHxkr",
        "outputId": "4e9f2d26-89d5-434f-eb62-77267242548e"
      },
      "execution_count": 14,
      "outputs": [
        {
          "output_type": "stream",
          "name": "stdout",
          "text": [
            "CPU times: user 1.66 ms, sys: 113 µs, total: 1.77 ms\n",
            "Wall time: 1.9 ms\n"
          ]
        },
        {
          "output_type": "execute_result",
          "data": {
            "text/plain": [
              "tensor(29)"
            ]
          },
          "metadata": {},
          "execution_count": 14
        }
      ]
    },
    {
      "cell_type": "code",
      "source": [
        "print(torch.max(t1), t1.max())\n",
        "print(torch.min(t1), t1.min())\n",
        "print(torch.mean(t1.type(torch.float64)),t1.type(torch.float64).mean())"
      ],
      "metadata": {
        "colab": {
          "base_uri": "https://localhost:8080/"
        },
        "id": "M7VICfTvJ6I2",
        "outputId": "afe2e403-90aa-41dc-e7ff-60fb8e87c9e9"
      },
      "execution_count": 15,
      "outputs": [
        {
          "output_type": "stream",
          "name": "stdout",
          "text": [
            "tensor(3) tensor(3)\n",
            "tensor(1) tensor(1)\n",
            "tensor(2., dtype=torch.float64) tensor(2., dtype=torch.float64)\n"
          ]
        }
      ]
    },
    {
      "cell_type": "code",
      "source": [
        "print(t1.argmax())\n",
        "print(t1.argmin())\n",
        "t4 = torch.tensor([1,1,1]);\n",
        "print(t4.argmax())"
      ],
      "metadata": {
        "colab": {
          "base_uri": "https://localhost:8080/"
        },
        "id": "9p5W9ujSLssV",
        "outputId": "3aa01056-1154-443f-9c59-fc28f1363a02"
      },
      "execution_count": 16,
      "outputs": [
        {
          "output_type": "stream",
          "name": "stdout",
          "text": [
            "tensor(2)\n",
            "tensor(0)\n",
            "tensor(0)\n"
          ]
        }
      ]
    },
    {
      "cell_type": "markdown",
      "source": [
        "Reshaping, Stacking, Squeezing and unsqueezing\n",
        "Reshaping: changing shape of the datastructure into a defined shape\n",
        "View: Returns a view of an input tensor of certain shape but keep same memory as the parent\n",
        "Stacking: Stacks multiple tensors over one another vertically Vstack or horizontally hstack\n",
        "Squeeze: remove all 1 dimensions from the tensor\n",
        "Unsqueeze: add 1 dimensions to target tensor\n",
        "Permute: Return a View of input with dimensions swapped in certain way"
      ],
      "metadata": {
        "id": "7iiVb1DUOii3"
      }
    },
    {
      "cell_type": "code",
      "source": [
        "x = torch.arange(1,11);\n",
        "x_reshape = x.reshape(1,10)\n",
        "x,x_reshape"
      ],
      "metadata": {
        "colab": {
          "base_uri": "https://localhost:8080/"
        },
        "id": "YPh9VR_3QM0o",
        "outputId": "ec3728b4-dbdd-47bf-9ad7-665fad9f9d78"
      },
      "execution_count": 17,
      "outputs": [
        {
          "output_type": "execute_result",
          "data": {
            "text/plain": [
              "(tensor([ 1,  2,  3,  4,  5,  6,  7,  8,  9, 10]),\n",
              " tensor([[ 1,  2,  3,  4,  5,  6,  7,  8,  9, 10]]))"
            ]
          },
          "metadata": {},
          "execution_count": 17
        }
      ]
    },
    {
      "cell_type": "code",
      "source": [
        "#view shares same memory location with parent\n",
        "#changing z changes x as they share same memory location\n",
        "z = x.view(1,10);\n",
        "z, z.shape\n",
        "z[0,:] = 5;\n",
        "x,x.shape"
      ],
      "metadata": {
        "colab": {
          "base_uri": "https://localhost:8080/"
        },
        "id": "8ZHqKyJud1u3",
        "outputId": "81dfb45b-6e69-4754-957b-6f3fe24c637a"
      },
      "execution_count": 18,
      "outputs": [
        {
          "output_type": "execute_result",
          "data": {
            "text/plain": [
              "(tensor([5, 5, 5, 5, 5, 5, 5, 5, 5, 5]), torch.Size([10]))"
            ]
          },
          "metadata": {},
          "execution_count": 18
        }
      ]
    },
    {
      "cell_type": "code",
      "source": [
        "#stacking along a dimension of code\n",
        "x_stacked = torch.stack([x,x,x,x], dim = 1)\n",
        "x_stacked"
      ],
      "metadata": {
        "colab": {
          "base_uri": "https://localhost:8080/"
        },
        "id": "NrR2RDuke0Gr",
        "outputId": "9c7e8603-88df-4435-b9b9-8e1dec1dfb5d"
      },
      "execution_count": 19,
      "outputs": [
        {
          "output_type": "execute_result",
          "data": {
            "text/plain": [
              "tensor([[5, 5, 5, 5],\n",
              "        [5, 5, 5, 5],\n",
              "        [5, 5, 5, 5],\n",
              "        [5, 5, 5, 5],\n",
              "        [5, 5, 5, 5],\n",
              "        [5, 5, 5, 5],\n",
              "        [5, 5, 5, 5],\n",
              "        [5, 5, 5, 5],\n",
              "        [5, 5, 5, 5],\n",
              "        [5, 5, 5, 5]])"
            ]
          },
          "metadata": {},
          "execution_count": 19
        }
      ]
    },
    {
      "cell_type": "code",
      "source": [
        "x_reshape.shape\n",
        "print(\"INITIALLY: \",x_reshape);\n",
        "x_reshape = x_reshape.squeeze()\n",
        "print(\"SQUEEZED:\",x_reshape)"
      ],
      "metadata": {
        "colab": {
          "base_uri": "https://localhost:8080/"
        },
        "id": "fZMwxrBHftyL",
        "outputId": "97d10ef3-d110-43ad-dd6c-cfd85bcb28f7"
      },
      "execution_count": 20,
      "outputs": [
        {
          "output_type": "stream",
          "name": "stdout",
          "text": [
            "INITIALLY:  tensor([[5, 5, 5, 5, 5, 5, 5, 5, 5, 5]])\n",
            "SQUEEZED: tensor([5, 5, 5, 5, 5, 5, 5, 5, 5, 5])\n"
          ]
        }
      ]
    },
    {
      "cell_type": "markdown",
      "source": [
        "# **INDEXING IN PYTORCH**"
      ],
      "metadata": {
        "id": "38QZr9Kah3wf"
      }
    },
    {
      "cell_type": "code",
      "source": [
        "x = torch.arange(1,10).reshape(1,3,3)\n",
        "print(x)\n",
        "print(x[0])\n",
        "print(x[0][0])\n",
        "print(x[0][0][0])\n",
        "print(x[0,1,:])"
      ],
      "metadata": {
        "colab": {
          "base_uri": "https://localhost:8080/"
        },
        "id": "Nb7Gv-7AiATM",
        "outputId": "15b05281-9305-4dba-81b3-27479522f82e"
      },
      "execution_count": 21,
      "outputs": [
        {
          "output_type": "stream",
          "name": "stdout",
          "text": [
            "tensor([[[1, 2, 3],\n",
            "         [4, 5, 6],\n",
            "         [7, 8, 9]]])\n",
            "tensor([[1, 2, 3],\n",
            "        [4, 5, 6],\n",
            "        [7, 8, 9]])\n",
            "tensor([1, 2, 3])\n",
            "tensor(1)\n",
            "tensor([4, 5, 6])\n"
          ]
        }
      ]
    },
    {
      "cell_type": "code",
      "source": [
        "#CONVERT DATA FROM NUMPY ARRAY TO PYTORCH TENSOR\n",
        "array = np.arange(1,10)\n",
        "tensor = torch.from_numpy(array)\n",
        "array,tensor"
      ],
      "metadata": {
        "colab": {
          "base_uri": "https://localhost:8080/"
        },
        "id": "g2i_Sty8lHkl",
        "outputId": "4af7090c-992d-429b-abee-a583824058e2"
      },
      "execution_count": 22,
      "outputs": [
        {
          "output_type": "execute_result",
          "data": {
            "text/plain": [
              "(array([1, 2, 3, 4, 5, 6, 7, 8, 9]), tensor([1, 2, 3, 4, 5, 6, 7, 8, 9]))"
            ]
          },
          "metadata": {},
          "execution_count": 22
        }
      ]
    },
    {
      "cell_type": "markdown",
      "source": [
        "# Reproducibility we want to create a smaller degree of randomness within random numbers"
      ],
      "metadata": {
        "id": "oM0hl4Kxmk9H"
      }
    },
    {
      "cell_type": "code",
      "source": [
        "#create a seed and then use it to create a random tensor completely from that seed only\n",
        "Random_seed = 42\n",
        "torch.manual_seed(Random_seed)\n",
        "tensorA = torch.rand(3,4)\n",
        "torch.manual_seed(Random_seed)\n",
        "tensorB = torch.rand(3,4)\n",
        "print(tensorA)\n",
        "print(tensorB)\n",
        "print(tensorA==tensorB)"
      ],
      "metadata": {
        "colab": {
          "base_uri": "https://localhost:8080/"
        },
        "id": "_gfEmiP1mu3l",
        "outputId": "c747b176-9271-4ac7-9d39-ef08e25e947a"
      },
      "execution_count": 23,
      "outputs": [
        {
          "output_type": "stream",
          "name": "stdout",
          "text": [
            "tensor([[0.8823, 0.9150, 0.3829, 0.9593],\n",
            "        [0.3904, 0.6009, 0.2566, 0.7936],\n",
            "        [0.9408, 0.1332, 0.9346, 0.5936]])\n",
            "tensor([[0.8823, 0.9150, 0.3829, 0.9593],\n",
            "        [0.3904, 0.6009, 0.2566, 0.7936],\n",
            "        [0.9408, 0.1332, 0.9346, 0.5936]])\n",
            "tensor([[True, True, True, True],\n",
            "        [True, True, True, True],\n",
            "        [True, True, True, True]])\n"
          ]
        }
      ]
    },
    {
      "cell_type": "code",
      "source": [
        "weight = 0.7\n",
        "bias = 0.3\n",
        "#Y = (weight*X) + bias\n",
        "\n",
        "start = 0\n",
        "end = 1\n",
        "step = 0.02\n",
        "x = torch.arange(start,end,step).unsqueeze(dim = 1)\n",
        "y = weight*x+bias\n",
        "\n",
        "x[:10],y[:10]\n"
      ],
      "metadata": {
        "colab": {
          "base_uri": "https://localhost:8080/"
        },
        "id": "AvuGkfqlxiMj",
        "outputId": "d0014ce7-493d-4ecf-ffb5-b96bec55e7e3"
      },
      "execution_count": 24,
      "outputs": [
        {
          "output_type": "execute_result",
          "data": {
            "text/plain": [
              "(tensor([[0.0000],\n",
              "         [0.0200],\n",
              "         [0.0400],\n",
              "         [0.0600],\n",
              "         [0.0800],\n",
              "         [0.1000],\n",
              "         [0.1200],\n",
              "         [0.1400],\n",
              "         [0.1600],\n",
              "         [0.1800]]),\n",
              " tensor([[0.3000],\n",
              "         [0.3140],\n",
              "         [0.3280],\n",
              "         [0.3420],\n",
              "         [0.3560],\n",
              "         [0.3700],\n",
              "         [0.3840],\n",
              "         [0.3980],\n",
              "         [0.4120],\n",
              "         [0.4260]]))"
            ]
          },
          "metadata": {},
          "execution_count": 24
        }
      ]
    },
    {
      "cell_type": "code",
      "source": [
        "len(x),len(y)"
      ],
      "metadata": {
        "colab": {
          "base_uri": "https://localhost:8080/"
        },
        "id": "yQYpLEubDbeP",
        "outputId": "4ea822cc-0168-4467-fd01-fbcf4db95d8d"
      },
      "execution_count": 25,
      "outputs": [
        {
          "output_type": "execute_result",
          "data": {
            "text/plain": [
              "(50, 50)"
            ]
          },
          "metadata": {},
          "execution_count": 25
        }
      ]
    },
    {
      "cell_type": "code",
      "source": [
        "split = int(0.8 * len(x))\n",
        "x_train, y_train = x[:split], y[:split]\n",
        "x_test, y_test = x[split:], y[split:]\n",
        "\n",
        "def plot_prediction(Train_data, Train_label, Test_data, Test_label, Prediction=None):\n",
        "    plt.figure(figsize=(10, 7))\n",
        "    plt.scatter(Train_data, Train_label, c='b', s=4, label='Training dataset')\n",
        "    plt.scatter(Test_data, Test_label, c='g', s=4, label='Test dataset')\n",
        "    if Prediction is not None:\n",
        "        plt.scatter(Test_data, Prediction, c='r', label='Predictions')\n",
        "\n",
        "    plt.xlabel(\"Input Data\")\n",
        "    plt.ylabel(\"Labels\")\n",
        "    plt.legend()\n",
        "    plt.title(\"Training and Test Data with Predictions\")\n",
        "    plt.show()\n",
        "\n",
        "\n",
        "plot_prediction(x_train, y_train, x_test, y_test, None)\n"
      ],
      "metadata": {
        "colab": {
          "base_uri": "https://localhost:8080/",
          "height": 641
        },
        "id": "zL_BoIcHCB_f",
        "outputId": "b7cb459c-dd4a-48a3-f414-197446e93141"
      },
      "execution_count": 26,
      "outputs": [
        {
          "output_type": "display_data",
          "data": {
            "text/plain": [
              "<Figure size 1000x700 with 1 Axes>"
            ],
            "image/png": "[encoded data removed]"
          },
          "metadata": {}
        }
      ]
    },
    {
      "cell_type": "code",
      "source": [
        "from torch import nn\n",
        "\n",
        "class LinearRegressionModel(nn.Module):\n",
        "    def __init__(self):\n",
        "      super().__init__()\n",
        "      self.weight = nn.Parameter(torch.randn(1,\n",
        "                                             requires_grad = True,\n",
        "                                             dtype = torch.float))\n",
        "      self.bias = nn.Parameter(torch.randn(1,\n",
        "                                           requires_grad = True,\n",
        "                                           dtype = torch.float))\n",
        "\n",
        "    def forward(self, x:torch.Tensor) -> torch.Tensor:\n",
        "        return self.weight*x+ self.bias"
      ],
      "metadata": {
        "id": "qGkc4EUFe_5f"
      },
      "execution_count": 27,
      "outputs": []
    },
    {
      "cell_type": "code",
      "source": [
        "torch.manual_seed(42)\n",
        "model_0 = LinearRegressionModel()\n",
        "list(model_0.parameters())"
      ],
      "metadata": {
        "colab": {
          "base_uri": "https://localhost:8080/"
        },
        "id": "3RezHzieu_7Y",
        "outputId": "8b33595e-9d31-4f04-c853-7f452de2955a"
      },
      "execution_count": 28,
      "outputs": [
        {
          "output_type": "execute_result",
          "data": {
            "text/plain": [
              "[Parameter containing:\n",
              " tensor([0.3367], requires_grad=True),\n",
              " Parameter containing:\n",
              " tensor([0.1288], requires_grad=True)]"
            ]
          },
          "metadata": {},
          "execution_count": 28
        }
      ]
    },
    {
      "cell_type": "code",
      "source": [
        "with torch.inference_mode():\n",
        "  y_preds = model_0(x_test)\n",
        "\n",
        "y_preds"
      ],
      "metadata": {
        "colab": {
          "base_uri": "https://localhost:8080/"
        },
        "id": "IMeF824h0LFF",
        "outputId": "312a04a3-0f5c-4e8f-b85e-ae8172ed788e"
      },
      "execution_count": 29,
      "outputs": [
        {
          "output_type": "execute_result",
          "data": {
            "text/plain": [
              "tensor([[0.3982],\n",
              "        [0.4049],\n",
              "        [0.4116],\n",
              "        [0.4184],\n",
              "        [0.4251],\n",
              "        [0.4318],\n",
              "        [0.4386],\n",
              "        [0.4453],\n",
              "        [0.4520],\n",
              "        [0.4588]])"
            ]
          },
          "metadata": {},
          "execution_count": 29
        }
      ]
    },
    {
      "cell_type": "code",
      "source": [
        "y_test"
      ],
      "metadata": {
        "colab": {
          "base_uri": "https://localhost:8080/"
        },
        "id": "3x_Ha3QJ0kGE",
        "outputId": "39684a55-ebf3-4d92-9a68-efe5527cc670"
      },
      "execution_count": 30,
      "outputs": [
        {
          "output_type": "execute_result",
          "data": {
            "text/plain": [
              "tensor([[0.8600],\n",
              "        [0.8740],\n",
              "        [0.8880],\n",
              "        [0.9020],\n",
              "        [0.9160],\n",
              "        [0.9300],\n",
              "        [0.9440],\n",
              "        [0.9580],\n",
              "        [0.9720],\n",
              "        [0.9860]])"
            ]
          },
          "metadata": {},
          "execution_count": 30
        }
      ]
    },
    {
      "cell_type": "code",
      "source": [
        "plot_prediction(x_train, y_train, x_test, y_test, y_preds)"
      ],
      "metadata": {
        "colab": {
          "base_uri": "https://localhost:8080/",
          "height": 641
        },
        "id": "zX1OEO5D0nLJ",
        "outputId": "f7a7707a-2ea4-4886-fff8-0ddf71139fc6"
      },
      "execution_count": 31,
      "outputs": [
        {
          "output_type": "display_data",
          "data": {
            "text/plain": [
              "<Figure size 1000x700 with 1 Axes>"
            ],
            "image/png": "[encoded data removed]"
          },
          "metadata": {}
        }
      ]
    },
    {
      "cell_type": "code",
      "source": [
        "# Training of the model on a dataset\n",
        "loss_fn = nn.L1Loss()\n",
        "optimizer = torch.optim.SGD(params = model_0.parameters(), lr = 0.01)"
      ],
      "metadata": {
        "id": "RZ813v99rRTP"
      },
      "execution_count": 32,
      "outputs": []
    },
    {
      "cell_type": "code",
      "source": [
        "epochs = 100;\n",
        "for epoch in range(epochs):\n",
        "    model_0.train()\n",
        "    y_pred = model_0(x_train)\n",
        "    loss = loss_fn(y_pred,y_train)\n",
        "\n",
        "    optimizer.zero_grad()\n",
        "    loss.backward()\n",
        "    optimizer.step()\n",
        "    model_0.eval() #turn of all parameters thats not required for testing in the model (batchout/norm layer)\n",
        "    with torch.inference_mode():\n",
        "      test_pred = model_0(x_test)\n",
        "      test_loss = loss_fn(test_pred,y_test)\n",
        "    print(f\"epoch: {epoch}| loss: {loss}| test_loss: {test_loss}\")"
      ],
      "metadata": {
        "colab": {
          "base_uri": "https://localhost:8080/"
        },
        "id": "JPw14h-Z_0O2",
        "outputId": "36c9e2b5-e7af-42c7-efbf-5a14c69dc01a"
      },
      "execution_count": 33,
      "outputs": [
        {
          "output_type": "stream",
          "name": "stdout",
          "text": [
            "epoch: 0| loss: 0.31288138031959534| test_loss: 0.48106518387794495\n",
            "epoch: 1| loss: 0.3013603389263153| test_loss: 0.4675942063331604\n",
            "epoch: 2| loss: 0.28983935713768005| test_loss: 0.4541231691837311\n",
            "epoch: 3| loss: 0.2783183455467224| test_loss: 0.44065219163894653\n",
            "epoch: 4| loss: 0.26679736375808716| test_loss: 0.4271811842918396\n",
            "epoch: 5| loss: 0.2552763521671295| test_loss: 0.41371020674705505\n",
            "epoch: 6| loss: 0.24375534057617188| test_loss: 0.40023916959762573\n",
            "epoch: 7| loss: 0.23223432898521423| test_loss: 0.3867681920528412\n",
            "epoch: 8| loss: 0.22071333229541779| test_loss: 0.37329721450805664\n",
            "epoch: 9| loss: 0.20919232070446014| test_loss: 0.3598262071609497\n",
            "epoch: 10| loss: 0.1976713240146637| test_loss: 0.3463551998138428\n",
            "epoch: 11| loss: 0.18615034222602844| test_loss: 0.3328842222690582\n",
            "epoch: 12| loss: 0.1746293306350708| test_loss: 0.3194132149219513\n",
            "epoch: 13| loss: 0.16310831904411316| test_loss: 0.30594223737716675\n",
            "epoch: 14| loss: 0.1515873372554779| test_loss: 0.2924712300300598\n",
            "epoch: 15| loss: 0.14006635546684265| test_loss: 0.27900025248527527\n",
            "epoch: 16| loss: 0.1285453587770462| test_loss: 0.2655292749404907\n",
            "epoch: 17| loss: 0.11702437698841095| test_loss: 0.2520582973957062\n",
            "epoch: 18| loss: 0.1060912236571312| test_loss: 0.2395961582660675\n",
            "epoch: 19| loss: 0.09681284427642822| test_loss: 0.22817862033843994\n",
            "epoch: 20| loss: 0.08908725529909134| test_loss: 0.21729660034179688\n",
            "epoch: 21| loss: 0.08227583020925522| test_loss: 0.2069590985774994\n",
            "epoch: 22| loss: 0.07638873159885406| test_loss: 0.19773726165294647\n",
            "epoch: 23| loss: 0.07160007208585739| test_loss: 0.1890866756439209\n",
            "epoch: 24| loss: 0.06747635453939438| test_loss: 0.18101617693901062\n",
            "epoch: 25| loss: 0.06395438313484192| test_loss: 0.17353470623493195\n",
            "epoch: 26| loss: 0.06097004935145378| test_loss: 0.16665108501911163\n",
            "epoch: 27| loss: 0.05845819041132927| test_loss: 0.16037428379058838\n",
            "epoch: 28| loss: 0.05635259300470352| test_loss: 0.15471318364143372\n",
            "epoch: 29| loss: 0.0545857772231102| test_loss: 0.14967669546604156\n",
            "epoch: 30| loss: 0.053148526698350906| test_loss: 0.14464017748832703\n",
            "epoch: 31| loss: 0.05181945487856865| test_loss: 0.14023718237876892\n",
            "epoch: 32| loss: 0.05069301277399063| test_loss: 0.13647659122943878\n",
            "epoch: 33| loss: 0.0498228520154953| test_loss: 0.13271598517894745\n",
            "epoch: 34| loss: 0.04895269125699997| test_loss: 0.12895536422729492\n",
            "epoch: 35| loss: 0.04819351062178612| test_loss: 0.12584610283374786\n",
            "epoch: 36| loss: 0.047531817108392715| test_loss: 0.12273679673671722\n",
            "epoch: 37| loss: 0.04692792519927025| test_loss: 0.1202877014875412\n",
            "epoch: 38| loss: 0.04642331600189209| test_loss: 0.11783860623836517\n",
            "epoch: 39| loss: 0.04591871052980423| test_loss: 0.11538954079151154\n",
            "epoch: 40| loss: 0.04543796554207802| test_loss: 0.11360953003168106\n",
            "epoch: 41| loss: 0.04503796249628067| test_loss: 0.11182951927185059\n",
            "epoch: 42| loss: 0.04463795945048332| test_loss: 0.1100495308637619\n",
            "epoch: 43| loss: 0.04423796385526657| test_loss: 0.10826952755451202\n",
            "epoch: 44| loss: 0.04383796453475952| test_loss: 0.10648951679468155\n",
            "epoch: 45| loss: 0.04343796148896217| test_loss: 0.10470950603485107\n",
            "epoch: 46| loss: 0.043074630200862885| test_loss: 0.10360751301050186\n",
            "epoch: 47| loss: 0.04272563382983208| test_loss: 0.10250549018383026\n",
            "epoch: 48| loss: 0.04237663000822067| test_loss: 0.10140349715948105\n",
            "epoch: 49| loss: 0.04202762991189957| test_loss: 0.10030148178339005\n",
            "epoch: 50| loss: 0.04167863354086876| test_loss: 0.09919948130846024\n",
            "epoch: 51| loss: 0.04132963344454765| test_loss: 0.09809747338294983\n",
            "epoch: 52| loss: 0.04098063334822655| test_loss: 0.09699545800685883\n",
            "epoch: 53| loss: 0.04063162952661514| test_loss: 0.09589345753192902\n",
            "epoch: 54| loss: 0.040282636880874634| test_loss: 0.0947914719581604\n",
            "epoch: 55| loss: 0.039933640509843826| test_loss: 0.09368947893381119\n",
            "epoch: 56| loss: 0.03958464413881302| test_loss: 0.09258746355772018\n",
            "epoch: 57| loss: 0.03923564404249191| test_loss: 0.09148545563220978\n",
            "epoch: 58| loss: 0.03888664394617081| test_loss: 0.09038344770669937\n",
            "epoch: 59| loss: 0.0385376438498497| test_loss: 0.08928143978118896\n",
            "epoch: 60| loss: 0.03818932920694351| test_loss: 0.08886633068323135\n",
            "epoch: 61| loss: 0.03785243630409241| test_loss: 0.08776430785655975\n",
            "epoch: 62| loss: 0.0375034399330616| test_loss: 0.08666229248046875\n",
            "epoch: 63| loss: 0.037164121866226196| test_loss: 0.08624717593193054\n",
            "epoch: 64| loss: 0.03681822493672371| test_loss: 0.08514519035816193\n",
            "epoch: 65| loss: 0.03647511452436447| test_loss: 0.08473004400730133\n",
            "epoch: 66| loss: 0.03613303601741791| test_loss: 0.08362803608179092\n",
            "epoch: 67| loss: 0.03578609973192215| test_loss: 0.08321291208267212\n",
            "epoch: 68| loss: 0.03544783592224121| test_loss: 0.08211090415716171\n",
            "epoch: 69| loss: 0.035098835825920105| test_loss: 0.0810088962316513\n",
            "epoch: 70| loss: 0.03476089984178543| test_loss: 0.0805937647819519\n",
            "epoch: 71| loss: 0.03441363573074341| test_loss: 0.0794917643070221\n",
            "epoch: 72| loss: 0.03407188132405281| test_loss: 0.07907666265964508\n",
            "epoch: 73| loss: 0.03372843936085701| test_loss: 0.07797462493181229\n",
            "epoch: 74| loss: 0.03338287025690079| test_loss: 0.07755951583385468\n",
            "epoch: 75| loss: 0.033043231815099716| test_loss: 0.07645749300718307\n",
            "epoch: 76| loss: 0.03269423171877861| test_loss: 0.07535548508167267\n",
            "epoch: 77| loss: 0.032357655465602875| test_loss: 0.07494036853313446\n",
            "epoch: 78| loss: 0.03200903534889221| test_loss: 0.07383836805820465\n",
            "epoch: 79| loss: 0.03166864812374115| test_loss: 0.07342323660850525\n",
            "epoch: 80| loss: 0.03132382780313492| test_loss: 0.07232122868299484\n",
            "epoch: 81| loss: 0.030979642644524574| test_loss: 0.07190609723329544\n",
            "epoch: 82| loss: 0.030638623982667923| test_loss: 0.07080408930778503\n",
            "epoch: 83| loss: 0.0302906334400177| test_loss: 0.07038896530866623\n",
            "epoch: 84| loss: 0.029953425750136375| test_loss: 0.06928696483373642\n",
            "epoch: 85| loss: 0.02960442565381527| test_loss: 0.06818496435880661\n",
            "epoch: 86| loss: 0.029265418648719788| test_loss: 0.0677698403596878\n",
            "epoch: 87| loss: 0.028919223695993423| test_loss: 0.0666678324341774\n",
            "epoch: 88| loss: 0.028576409444212914| test_loss: 0.066252700984478\n",
            "epoch: 89| loss: 0.028234025463461876| test_loss: 0.06515069305896759\n",
            "epoch: 90| loss: 0.02788739837706089| test_loss: 0.06473556160926819\n",
            "epoch: 91| loss: 0.02754882536828518| test_loss: 0.06363357603549957\n",
            "epoch: 92| loss: 0.027199819684028625| test_loss: 0.06253156810998917\n",
            "epoch: 93| loss: 0.026862185448408127| test_loss: 0.062116436660289764\n",
            "epoch: 94| loss: 0.02651461586356163| test_loss: 0.061014432460069656\n",
            "epoch: 95| loss: 0.026173178106546402| test_loss: 0.06059930846095085\n",
            "epoch: 96| loss: 0.025829419493675232| test_loss: 0.05949730426073074\n",
            "epoch: 97| loss: 0.02548416517674923| test_loss: 0.05908216908574104\n",
            "epoch: 98| loss: 0.025144213810563087| test_loss: 0.057980168610811234\n",
            "epoch: 99| loss: 0.02479521557688713| test_loss: 0.05687814950942993\n"
          ]
        }
      ]
    },
    {
      "cell_type": "code",
      "source": [
        "print(model_0.state_dict())\n",
        "with torch.inference_mode():\n",
        "  y_pred = model_0(x_test)\n",
        "\n",
        "plot_prediction(x_train, y_train, x_test, y_test, y_pred)\n"
      ],
      "metadata": {
        "colab": {
          "base_uri": "https://localhost:8080/",
          "height": 658
        },
        "id": "2CzLpWZFFkqP",
        "outputId": "a94aae4e-47e5-4da1-95ba-343039356ae6"
      },
      "execution_count": 34,
      "outputs": [
        {
          "output_type": "stream",
          "name": "stdout",
          "text": [
            "OrderedDict([('weight', tensor([0.5784])), ('bias', tensor([0.3513]))])\n"
          ]
        },
        {
          "output_type": "display_data",
          "data": {
            "text/plain": [
              "<Figure size 1000x700 with 1 Axes>"
            ],
            "image/png": "[encoded data removed]"
          },
          "metadata": {}
        }
      ]
    },
    {
      "cell_type": "code",
      "source": [
        "from pathlib import Path\n",
        "\n",
        "model_path = Path(\"models\")\n",
        "model_path.mkdir(parents = True, exist_ok = True)\n",
        "model_name = \"pytorch_model_0.pth\"\n",
        "model_save_path = model_path/model_name\n",
        "torch.save(obj=model_0.state_dict(),\n",
        "          f=model_save_path)"
      ],
      "metadata": {
        "id": "Heup36nsnKLj"
      },
      "execution_count": 37,
      "outputs": []
    },
    {
      "cell_type": "code",
      "source": [
        "model_0.state_dict()\n",
        "loaded_model_0 = LinearRegressionModel()\n",
        "\n",
        "loaded_model_0.load_state_dict(torch.load(model_save_path))\n",
        "loaded_model_0.state_dict()"
      ],
      "metadata": {
        "colab": {
          "base_uri": "https://localhost:8080/"
        },
        "id": "H0jyls9U4neq",
        "outputId": "baeb8253-ad49-48a3-d529-d04fce40455b"
      },
      "execution_count": 43,
      "outputs": [
        {
          "output_type": "stream",
          "name": "stderr",
          "text": [
            "<ipython-input-43-709b13cabde8>:4: FutureWarning: You are using `torch.load` with `weights_only=False` (the current default value), which uses the default pickle module implicitly. It is possible to construct malicious pickle data which will execute arbitrary code during unpickling (See https://github.com/pytorch/pytorch/blob/main/SECURITY.md#untrusted-models for more details). In a future release, the default value for `weights_only` will be flipped to `True`. This limits the functions that could be executed during unpickling. Arbitrary objects will no longer be allowed to be loaded via this mode unless they are explicitly allowlisted by the user via `torch.serialization.add_safe_globals`. We recommend you start setting `weights_only=True` for any use case where you don't have full control of the loaded file. Please open an issue on GitHub for any issues related to this experimental feature.\n",
            "  loaded_model_0.load_state_dict(torch.load(model_save_path))\n"
          ]
        },
        {
          "output_type": "execute_result",
          "data": {
            "text/plain": [
              "OrderedDict([('weight', tensor([0.5784])), ('bias', tensor([0.3513]))])"
            ]
          },
          "metadata": {},
          "execution_count": 43
        }
      ]
    }
  ]
}